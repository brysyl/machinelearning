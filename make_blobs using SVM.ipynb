{
 "cells": [
  {
   "cell_type": "markdown",
   "metadata": {},
   "source": [
    "# MAKE_BLOBS USING SUPPORT VECTOR MACHINES"
   ]
  },
  {
   "cell_type": "code",
   "execution_count": 28,
   "metadata": {},
   "outputs": [
    {
     "data": {
      "text/plain": [
       "array([[ 1.71842122,  9.52190711],\n",
       "       [ 9.13204399,  5.32194764],\n",
       "       [ 8.68770841,  7.79789319],\n",
       "       [ 2.8137247 ,  8.36064298],\n",
       "       [ 7.27542879,  6.31825811],\n",
       "       [ 0.48311336,  8.19998973],\n",
       "       [ 7.9294032 ,  6.08842852],\n",
       "       [ 2.69548237, 10.01411256],\n",
       "       [ 2.26571286,  8.36068903],\n",
       "       [ 0.82767806,  6.34128434],\n",
       "       [ 0.87712287,  6.84969507],\n",
       "       [ 6.86839861,  5.83429863],\n",
       "       [ 0.97059923,  7.11190662],\n",
       "       [ 2.12015254,  5.61101265],\n",
       "       [ 2.88274828,  9.28705277],\n",
       "       [ 8.47704476,  6.80415251],\n",
       "       [ 7.61095347,  7.8201477 ],\n",
       "       [ 1.65359865,  9.510461  ],\n",
       "       [ 2.08607703,  7.46086368],\n",
       "       [ 9.92527993,  6.67617854],\n",
       "       [ 2.09222936,  6.81774802],\n",
       "       [ 1.59396992,  4.76457177],\n",
       "       [ 0.67778343,  8.51397085],\n",
       "       [ 7.86880706,  7.3062361 ],\n",
       "       [ 8.32405183,  3.6123843 ],\n",
       "       [ 8.35834306,  6.47258777],\n",
       "       [ 2.28968574,  6.40317382],\n",
       "       [ 6.34822954,  5.46058533],\n",
       "       [ 7.22830657,  7.86147791],\n",
       "       [ 8.47764867,  6.90996676],\n",
       "       [ 1.89139437,  5.88732584],\n",
       "       [ 8.26863909,  7.67453856],\n",
       "       [ 1.42412542,  8.27524534],\n",
       "       [ 2.70208537,  6.97579352],\n",
       "       [ 8.52161671,  4.83102994],\n",
       "       [ 7.00192182,  6.43079715],\n",
       "       [ 9.03512586,  7.66854573],\n",
       "       [ 1.51927726,  7.82424385],\n",
       "       [ 6.9758391 ,  5.80360444],\n",
       "       [ 7.59114483,  6.77649377]])"
      ]
     },
     "execution_count": 28,
     "metadata": {},
     "output_type": "execute_result"
    }
   ],
   "source": [
    "import numpy as np\n",
    "import pandas as pd\n",
    "from sklearn.cross_validation import train_test_split\n",
    "from sklearn import svm\n",
    "from sklearn.datasets.samples_generator import make_blobs\n",
    "\n",
    "import matplotlib.pyplot as plt\n",
    "%matplotlib inline\n",
    "#WE CREATE 40 SEPARABLE POINTS\n",
    "\n",
    "x, y = make_blobs (n_samples = 40, centers = 2, random_state = 20)\n",
    "\n",
    "#fit the model, dont regularize for illustration purposes\n",
    "\n",
    "x\n",
    "\n"
   ]
  },
  {
   "cell_type": "code",
   "execution_count": 15,
   "metadata": {},
   "outputs": [
    {
     "data": {
      "text/plain": [
       "array([0, 1, 1, 0, 1, 0, 1, 0, 0, 0, 0, 1, 0, 0, 0, 1, 1, 0, 0, 1, 0, 0,\n",
       "       0, 1, 1, 1, 0, 1, 1, 1, 0, 1, 0, 0, 1, 1, 1, 0, 1, 1])"
      ]
     },
     "execution_count": 15,
     "metadata": {},
     "output_type": "execute_result"
    }
   ],
   "source": [
    "y"
   ]
  },
  {
   "cell_type": "code",
   "execution_count": 30,
   "metadata": {},
   "outputs": [
    {
     "name": "stdout",
     "output_type": "stream",
     "text": [
      "[0 1]\n"
     ]
    }
   ],
   "source": [
    "#USING TO PREDICT UNKNOWN DATA\n",
    "\n",
    "newData = [[3,4], [5,6]]\n",
    "print (clf.predict(newData))"
   ]
  },
  {
   "cell_type": "code",
   "execution_count": 44,
   "metadata": {},
   "outputs": [
    {
     "data": {
      "image/png": "[encoded data removed]",
      "text/plain": [
       "<matplotlib.figure.Figure at 0x7f029bbe45f8>"
      ]
     },
     "metadata": {},
     "output_type": "display_data"
    }
   ],
   "source": [
    "\n",
    "clf = svm.SVC(kernel = 'linear', C=1)\n",
    "clf.fit(x,y)\n",
    "\n",
    "#display the data in groups\n",
    "\n",
    "plt.scatter(x[:, 0], x[:, 1], c = y, s = 50, cmap = plt.cm.Paired, label = 'make blobs')\n",
    "plt.title('SVM')\n",
    "\n",
    "plt.xlabel('width of the snout')\n",
    "plt.ylabel('size of the the body')\n",
    "plt.legend()\n",
    "\n",
    "\n",
    "#GRAPHING\n",
    "\n",
    "\n",
    "#PLOT THE DECISION FUNCTION\n",
    "ax =plt.gca()\n",
    "xlim = ax.get_xlim()\n",
    "ylim = ax.get_ylim()\n",
    "\n",
    "\n",
    "#create grid to evaluate model\n",
    "xx = np.linspace(xlim[0], xlim[1], 30)\n",
    "yy = np.linspace(ylim[0], ylim[1], 30)\n",
    "YY,XX = np.meshgrid (yy, xx)\n",
    "xy = np.vstack([XX.ravel(), YY.ravel()]).T\n",
    "Z = clf.decision_function(xy).reshape(XX.shape)\n",
    "#plot decision boundary and margins\n",
    "ax.contour(XX,YY,Z, colors = 'k', levels = [-1, 0, 1], alpha = 0.5, linestyles = ['--', '-', '--'])\n",
    "\n",
    "#plot support vectors \n",
    "\n",
    "ax.scatter(clf.support_vectors_[:, 0],\n",
    "           clf.support_vectors_[:, 1], \n",
    "           s = 100, linewidth = 1, \n",
    "           facecolors = 'none')\n",
    "\n",
    "plt.show()\n",
    "\n"
   ]
  }
 ],
 "metadata": {
  "kernelspec": {
   "display_name": "Python 3",
   "language": "python",
   "name": "python3"
  },
  "language_info": {
   "codemirror_mode": {
    "name": "ipython",
    "version": 3
   },
   "file_extension": ".py",
   "mimetype": "text/x-python",
   "name": "python",
   "nbconvert_exporter": "python",
   "pygments_lexer": "ipython3",
   "version": "3.6.3"
  }
 },
 "nbformat": 4,
 "nbformat_minor": 2
}
